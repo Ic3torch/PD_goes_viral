{
 "cells": [
  {
   "cell_type": "markdown",
   "metadata": {
    "slideshow": {
     "slide_type": "slide"
    }
   },
   "source": [
    "# Script for transforming raw mobility data to edge table and trips per day and district"
   ]
  },
  {
   "cell_type": "markdown",
   "metadata": {},
   "source": [
    "## Specify identifier for output files"
   ]
  },
  {
   "cell_type": "code",
   "execution_count": null,
   "metadata": {},
   "outputs": [],
   "source": [
    "identifier = 'teralytics_2020_'"
   ]
  },
  {
   "cell_type": "markdown",
   "metadata": {},
   "source": [
    "## Import libraries"
   ]
  },
  {
   "cell_type": "code",
   "execution_count": null,
   "metadata": {},
   "outputs": [],
   "source": [
    "import pandas as pd\n",
    "import numpy as np"
   ]
  },
  {
   "cell_type": "markdown",
   "metadata": {},
   "source": [
    "## Read in raw data from file"
   ]
  },
  {
   "cell_type": "markdown",
   "metadata": {},
   "source": [
    "Read in file into dataframe:"
   ]
  },
  {
   "cell_type": "code",
   "execution_count": null,
   "metadata": {},
   "outputs": [],
   "source": [
    "df_raw = pd.DataFrame()\n",
    "\n",
    "for chunk in pd.read_csv('raw_mobility_data/FILENAME_HERE.csv', chunksize=10**6):\n",
    "    df_raw = df_raw.append(chunk)\n",
    "\n",
    "df_raw.reset_index(inplace=True, drop=True)"
   ]
  },
  {
   "cell_type": "markdown",
   "metadata": {},
   "source": [
    "Drop columns we don't need:"
   ]
  },
  {
   "cell_type": "code",
   "execution_count": null,
   "metadata": {},
   "outputs": [],
   "source": [
    "df_raw.drop(columns=['Mot','DistanceInKm'], inplace=True)"
   ]
  },
  {
   "cell_type": "markdown",
   "metadata": {},
   "source": [
    "Specify columns names with origin and destination districts, dates and mobility counts:"
   ]
  },
  {
   "cell_type": "code",
   "execution_count": null,
   "metadata": {},
   "outputs": [],
   "source": [
    "origin_col_name = 'StartId'\n",
    "destination_col_name = 'EndId'\n",
    "date_col_name = 'DayLocal'\n",
    "count_col_name = 'Count'"
   ]
  },
  {
   "cell_type": "markdown",
   "metadata": {},
   "source": [
    "## OSM ID to AGS5"
   ]
  },
  {
   "cell_type": "code",
   "execution_count": null,
   "metadata": {},
   "outputs": [],
   "source": [
    "o2a_df = pd.read_csv('https://raw.githubusercontent.com/J-Driesen/PD_goes_viral/master/OSM_2_AGS_v2.csv')"
   ]
  },
  {
   "cell_type": "code",
   "execution_count": null,
   "metadata": {},
   "outputs": [],
   "source": [
    "osm_2_ags_dict = dict(zip(o2a_df.OSM_ID,o2a_df.AGS_5))"
   ]
  },
  {
   "cell_type": "code",
   "execution_count": null,
   "metadata": {},
   "outputs": [],
   "source": [
    "df_raw['orig_ags5'] = df_raw[origin_col_name].map(osm_2_ags_dict)\n",
    "df_raw['dest_ags5'] = df_raw[destination_col_name].map(osm_2_ags_dict)\n"
   ]
  },
  {
   "cell_type": "code",
   "execution_count": null,
   "metadata": {},
   "outputs": [],
   "source": [
    "df_raw.drop(columns=[origin_col_name,destination_col_name], inplace=True)"
   ]
  },
  {
   "cell_type": "markdown",
   "metadata": {},
   "source": [
    "## Create edge table"
   ]
  },
  {
   "cell_type": "code",
   "execution_count": null,
   "metadata": {},
   "outputs": [],
   "source": [
    "edge_table = df_raw.groupby([date_col_name,'orig_ags5','dest_ags5'])[count_col_name].sum().reset_index()"
   ]
  },
  {
   "cell_type": "markdown",
   "metadata": {},
   "source": [
    "Save edge table to CSV-file using the specifier defined above:"
   ]
  },
  {
   "cell_type": "code",
   "execution_count": null,
   "metadata": {},
   "outputs": [],
   "source": [
    "file_name = identifier + 'edge_table.csv'\n",
    "edge_table.to_csv(file_name, index=False)"
   ]
  },
  {
   "cell_type": "markdown",
   "metadata": {},
   "source": [
    "In case there's a problem later on, reading in this CSV will serve as a checkpoint:"
   ]
  },
  {
   "cell_type": "code",
   "execution_count": null,
   "metadata": {},
   "outputs": [],
   "source": [
    "# edge_table = pd.read_csv(file_name)"
   ]
  },
  {
   "cell_type": "markdown",
   "metadata": {},
   "source": [
    "## Create table for trips per district and day"
   ]
  },
  {
   "cell_type": "markdown",
   "metadata": {},
   "source": [
    "Create Boolean Series to subset data into within- and between-district mobility:"
   ]
  },
  {
   "cell_type": "code",
   "execution_count": null,
   "metadata": {},
   "outputs": [],
   "source": [
    "is_internal = edge_table.orig_ags5 == edge_table.dest_ags5"
   ]
  },
  {
   "cell_type": "markdown",
   "metadata": {},
   "source": [
    "Create multi-indexed Series for outgoing, incoming and internal mobility per district and day:"
   ]
  },
  {
   "cell_type": "code",
   "execution_count": null,
   "metadata": {},
   "outputs": [],
   "source": [
    "outgoing_mobility = edge_table[~is_internal].groupby([date_col_name, 'orig_ags5'])[count_col_name].sum().reset_index()\n",
    "incoming_mobility = edge_table[~is_internal].groupby([date_col_name, 'dest_ags5'])[count_col_name].sum().reset_index()\n",
    "internal_mobility = edge_table[ is_internal].groupby([date_col_name, 'orig_ags5'])[count_col_name].sum().reset_index()"
   ]
  },
  {
   "cell_type": "markdown",
   "metadata": {},
   "source": [
    "Merge all three into one dataframe, clean that dataframe up, and add total mobility:"
   ]
  },
  {
   "cell_type": "code",
   "execution_count": null,
   "metadata": {},
   "outputs": [],
   "source": [
    "external_mobility = pd.merge(outgoing_mobility, incoming_mobility, \n",
    "                   left_on = [date_col_name, 'orig_ags5'], right_on = [date_col_name, 'dest_ags5'],\n",
    "                   suffixes = ('_outgoing','_incoming'))\n",
    "\n",
    "mobility_per_district_day = pd.merge(external_mobility, internal_mobility,\n",
    "                                    on = [date_col_name, 'orig_ags5'])\n",
    "\n",
    "#rename columns:\n",
    "mobility_per_district_day.rename(columns = {count_col_name : count_col_name + '_internal',\n",
    "                                           'orig_ags5' : 'districtId'}, \n",
    "                                 inplace=True)\n",
    "\n",
    "#drop redundant dest_ags5 column:\n",
    "mobility_per_district_day.drop(columns = 'dest_ags5', inplace=True)\n",
    "\n",
    "#add total_mobility as sum:\n",
    "count_cols = [count_col_name + suffix for suffix in ['_outgoing','_incoming','_internal']]\n",
    "mobility_per_district_day['total_mobility'] = mobility_per_district_day[count_cols].sum(axis=1)"
   ]
  },
  {
   "cell_type": "markdown",
   "metadata": {},
   "source": [
    "Save mobility per district and day to CSV, again using the identifier:"
   ]
  },
  {
   "cell_type": "code",
   "execution_count": null,
   "metadata": {},
   "outputs": [],
   "source": [
    "file_name = identifier + 'mobility_per_district_and_day.csv'\n",
    "mobility_per_district_day.to_csv(file_name, index=False)"
   ]
  },
  {
   "cell_type": "code",
   "execution_count": null,
   "metadata": {},
   "outputs": [],
   "source": []
  }
 ],
 "metadata": {
  "kernelspec": {
   "display_name": "Python 3",
   "language": "python",
   "name": "python3"
  },
  "language_info": {
   "codemirror_mode": {
    "name": "ipython",
    "version": 3
   },
   "file_extension": ".py",
   "mimetype": "text/x-python",
   "name": "python",
   "nbconvert_exporter": "python",
   "pygments_lexer": "ipython3",
   "version": "3.7.6"
  }
 },
 "nbformat": 4,
 "nbformat_minor": 4
}
